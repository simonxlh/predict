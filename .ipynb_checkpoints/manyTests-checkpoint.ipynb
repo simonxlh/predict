{
 "cells": [
  {
   "cell_type": "markdown",
   "metadata": {},
   "source": [
    "### config 配置功能使用"
   ]
  },
  {
   "cell_type": "code",
   "execution_count": 5,
   "metadata": {},
   "outputs": [
    {
     "name": "stdout",
     "output_type": "stream",
     "text": [
      "[('access_uri', 'http://k8s.uisee.cn:31131'), ('retention', '30'), ('collect_step', '5')]\n",
      "<Section: Encoder-Decoder>\n",
      "5\n",
      "60\n",
      "0.0\n"
     ]
    }
   ],
   "source": [
    "import configparser\n",
    "config = configparser.ConfigParser()\n",
    "config.read(\"./config/config.cfg\")\n",
    "\n",
    "section = config.items('Monitoring')\n",
    "print(section)\n",
    "print(config['Encoder-Decoder'])\n",
    "print(config.getint(\"Monitoring\", \"collect_step\"))\n",
    "print(config.getint(\"Predict\", \"predict_period\"))\n",
    "print(config.getfloat(\"Encoder-Decoder\", \"weight\"))\n"
   ]
  },
  {
   "cell_type": "markdown",
   "metadata": {},
   "source": [
    "### 训练模型 继承抽象类 使用"
   ]
  },
  {
   "cell_type": "code",
   "execution_count": 45,
   "metadata": {},
   "outputs": [],
   "source": [
    "from models.prophet_model import ProphetModel\n",
    "a = ProphetModel()\n",
    "a.train_model(\"cpu\")"
   ]
  },
  {
   "cell_type": "markdown",
   "metadata": {},
   "source": [
    "### DataFrame 各类拼接"
   ]
  },
  {
   "cell_type": "code",
   "execution_count": 113,
   "metadata": {},
   "outputs": [
    {
     "name": "stdout",
     "output_type": "stream",
     "text": [
      "Empty DataFrame\n",
      "Columns: []\n",
      "Index: [1, 3, 5, 7, 9]\n"
     ]
    }
   ],
   "source": [
    "import pandas as pd\n",
    "import numpy as np\n",
    "# 创建只含有索引的 dataframe\n",
    "df = pd.DataFrame(index=list(x for x in range(1,10,2)))\n",
    "print(df)"
   ]
  },
  {
   "cell_type": "code",
   "execution_count": 114,
   "metadata": {},
   "outputs": [
    {
     "name": "stdout",
     "output_type": "stream",
     "text": [
      "   workload\n",
      "3        10\n",
      "5        13\n",
      "7        11\n"
     ]
    },
    {
     "data": {
      "text/html": [
       "<div>\n",
       "<style scoped>\n",
       "    .dataframe tbody tr th:only-of-type {\n",
       "        vertical-align: middle;\n",
       "    }\n",
       "\n",
       "    .dataframe tbody tr th {\n",
       "        vertical-align: top;\n",
       "    }\n",
       "\n",
       "    .dataframe thead th {\n",
       "        text-align: right;\n",
       "    }\n",
       "</style>\n",
       "<table border=\"1\" class=\"dataframe\">\n",
       "  <thead>\n",
       "    <tr style=\"text-align: right;\">\n",
       "      <th></th>\n",
       "      <th>workload</th>\n",
       "    </tr>\n",
       "  </thead>\n",
       "  <tbody>\n",
       "    <tr>\n",
       "      <th>1</th>\n",
       "      <td>NaN</td>\n",
       "    </tr>\n",
       "    <tr>\n",
       "      <th>3</th>\n",
       "      <td>10.0</td>\n",
       "    </tr>\n",
       "    <tr>\n",
       "      <th>5</th>\n",
       "      <td>13.0</td>\n",
       "    </tr>\n",
       "    <tr>\n",
       "      <th>7</th>\n",
       "      <td>11.0</td>\n",
       "    </tr>\n",
       "    <tr>\n",
       "      <th>9</th>\n",
       "      <td>NaN</td>\n",
       "    </tr>\n",
       "  </tbody>\n",
       "</table>\n",
       "</div>"
      ],
      "text/plain": [
       "   workload\n",
       "1       NaN\n",
       "3      10.0\n",
       "5      13.0\n",
       "7      11.0\n",
       "9       NaN"
      ]
     },
     "execution_count": 114,
     "metadata": {},
     "output_type": "execute_result"
    }
   ],
   "source": [
    "_data = np.array([[3,10],[5,13],[7,11]])\n",
    "_df = pd.DataFrame(data=_data[:,1], columns=['workload'],index=_data[:,0])\n",
    "print(_df)\n",
    "# 添加新的列，列的合并\n",
    "df = pd.concat([df, _df], axis=1)\n",
    "df"
   ]
  },
  {
   "cell_type": "code",
   "execution_count": 115,
   "metadata": {},
   "outputs": [
    {
     "name": "stdout",
     "output_type": "stream",
     "text": [
      "   workload\n",
      "1       NaN\n",
      "3      10.0\n",
      "5      13.0\n",
      "7      11.0\n",
      "9       NaN\n",
      "    workload\n",
      "7        7.0\n",
      "9        9.0\n",
      "11       NaN\n",
      "13       NaN\n",
      "15      15.0\n",
      "17       NaN\n",
      "19       NaN\n"
     ]
    }
   ],
   "source": [
    "df2 = pd.DataFrame(index=list(x for x in range(7,20,2)))\n",
    "_data = np.array([[7,7],[9,9],[15,15]])\n",
    "_df = pd.DataFrame(data=_data[:,1], columns=['workload'],index=_data[:,0])\n",
    "df2 = pd.concat([df2, _df], axis=1)\n",
    "print(df)\n",
    "print(df2)\n",
    "a = pd.concat([df,df2])"
   ]
  },
  {
   "cell_type": "code",
   "execution_count": 116,
   "metadata": {},
   "outputs": [],
   "source": [
    "# 根据重复索引 保留最后一次出现的值\n",
    "a = a[~a.index.duplicated(keep=\"last\")]\n",
    "cpu_df = pd.DataFrame()\n",
    "# 行的拼接、拼接空的 dataframe\n",
    "cpu_df = pd.concat([cpu_df, a])\n",
    "cpu_df.to_csv(\"./test.csv\", mode='w', header=True, index=True)"
   ]
  },
  {
   "cell_type": "code",
   "execution_count": 118,
   "metadata": {},
   "outputs": [
    {
     "data": {
      "text/html": [
       "<div>\n",
       "<style scoped>\n",
       "    .dataframe tbody tr th:only-of-type {\n",
       "        vertical-align: middle;\n",
       "    }\n",
       "\n",
       "    .dataframe tbody tr th {\n",
       "        vertical-align: top;\n",
       "    }\n",
       "\n",
       "    .dataframe thead th {\n",
       "        text-align: right;\n",
       "    }\n",
       "</style>\n",
       "<table border=\"1\" class=\"dataframe\">\n",
       "  <thead>\n",
       "    <tr style=\"text-align: right;\">\n",
       "      <th></th>\n",
       "      <th>workload</th>\n",
       "    </tr>\n",
       "  </thead>\n",
       "  <tbody>\n",
       "    <tr>\n",
       "      <th>1</th>\n",
       "      <td>NaN</td>\n",
       "    </tr>\n",
       "    <tr>\n",
       "      <th>3</th>\n",
       "      <td>10.0</td>\n",
       "    </tr>\n",
       "    <tr>\n",
       "      <th>5</th>\n",
       "      <td>13.0</td>\n",
       "    </tr>\n",
       "    <tr>\n",
       "      <th>7</th>\n",
       "      <td>7.0</td>\n",
       "    </tr>\n",
       "    <tr>\n",
       "      <th>9</th>\n",
       "      <td>9.0</td>\n",
       "    </tr>\n",
       "    <tr>\n",
       "      <th>11</th>\n",
       "      <td>NaN</td>\n",
       "    </tr>\n",
       "    <tr>\n",
       "      <th>13</th>\n",
       "      <td>NaN</td>\n",
       "    </tr>\n",
       "    <tr>\n",
       "      <th>15</th>\n",
       "      <td>15.0</td>\n",
       "    </tr>\n",
       "    <tr>\n",
       "      <th>17</th>\n",
       "      <td>NaN</td>\n",
       "    </tr>\n",
       "    <tr>\n",
       "      <th>19</th>\n",
       "      <td>NaN</td>\n",
       "    </tr>\n",
       "  </tbody>\n",
       "</table>\n",
       "</div>"
      ],
      "text/plain": [
       "    workload\n",
       "1        NaN\n",
       "3       10.0\n",
       "5       13.0\n",
       "7        7.0\n",
       "9        9.0\n",
       "11       NaN\n",
       "13       NaN\n",
       "15      15.0\n",
       "17       NaN\n",
       "19       NaN"
      ]
     },
     "execution_count": 118,
     "metadata": {},
     "output_type": "execute_result"
    }
   ],
   "source": [
    "origin_df = pd.read_csv(\"./test.csv\",index_col=0)\n",
    "origin_df"
   ]
  },
  {
   "cell_type": "markdown",
   "metadata": {},
   "source": [
    "### 枚举类型"
   ]
  },
  {
   "cell_type": "code",
   "execution_count": 1,
   "metadata": {},
   "outputs": [],
   "source": [
    "from enum import Enum \n",
    "class ResourceQuery(Enum):\n",
    "    CPU = \"namespace:workload_cpu_usage:sum\"\n",
    "    MEM = \"namespace:workload_memory_usage:sum\""
   ]
  },
  {
   "cell_type": "code",
   "execution_count": 2,
   "metadata": {},
   "outputs": [
    {
     "name": "stdout",
     "output_type": "stream",
     "text": [
      "namespace:workload_cpu_usage:sum\n",
      "CPU\n"
     ]
    }
   ],
   "source": [
    "print(ResourceQuery.CPU.value)\n",
    "print(ResourceQuery.CPU.name)\n",
    "\n",
    "def get_name_value(resource_query:Enum):\n",
    "    if resource_query is ResourceQuery.CPU:\n",
    "        print(\"is cpu\")\n",
    "    if resource_query is ResourceQuery.MEM:\n",
    "        print(\"is mem\")\n",
    "    print(resource_query.name, resource_query.value)"
   ]
  },
  {
   "cell_type": "code",
   "execution_count": 3,
   "metadata": {},
   "outputs": [
    {
     "name": "stdout",
     "output_type": "stream",
     "text": [
      "is cpu\n",
      "CPU namespace:workload_cpu_usage:sum\n"
     ]
    }
   ],
   "source": [
    "get_name_value(ResourceQuery.CPU)"
   ]
  },
  {
   "cell_type": "code",
   "execution_count": 100,
   "metadata": {},
   "outputs": [
    {
     "ename": "TypeError",
     "evalue": "'str' object does not support item assignment",
     "output_type": "error",
     "traceback": [
      "\u001b[0;31m---------------------------------------------------------------------------\u001b[0m",
      "\u001b[0;31mTypeError\u001b[0m                                 Traceback (most recent call last)",
      "\u001b[0;32m<ipython-input-100-0525ba64e007>\u001b[0m in \u001b[0;36m<module>\u001b[0;34m\u001b[0m\n\u001b[0;32m----> 1\u001b[0;31m \u001b[0mResource\u001b[0m\u001b[0;34m.\u001b[0m\u001b[0mcpu\u001b[0m\u001b[0;34m.\u001b[0m\u001b[0mvalue\u001b[0m\u001b[0;34m[\u001b[0m\u001b[0;34m'value'\u001b[0m\u001b[0;34m]\u001b[0m \u001b[0;34m=\u001b[0m \u001b[0;34m\"hahha\"\u001b[0m\u001b[0;34m\u001b[0m\u001b[0;34m\u001b[0m\u001b[0m\n\u001b[0m",
      "\u001b[0;31mTypeError\u001b[0m: 'str' object does not support item assignment"
     ]
    }
   ],
   "source": [
    "Resource.cpu.value['value'] = \"hahha\""
   ]
  },
  {
   "cell_type": "markdown",
   "metadata": {},
   "source": [
    "### 读取 csv 指定列"
   ]
  },
  {
   "cell_type": "code",
   "execution_count": 49,
   "metadata": {},
   "outputs": [
    {
     "name": "stderr",
     "output_type": "stream",
     "text": [
      "INFO:fbprophet:Disabling yearly seasonality. Run prophet with yearly_seasonality=True to override this.\n"
     ]
    },
    {
     "name": "stdout",
     "output_type": "stream",
     "text": [
      "CPU times: user 473 ms, sys: 40.1 ms, total: 514 ms\n",
      "Wall time: 524 ms\n",
      "CPU times: user 1.15 ms, sys: 0 ns, total: 1.15 ms\n",
      "Wall time: 1.06 ms\n",
      "CPU times: user 841 µs, sys: 0 ns, total: 841 µs\n",
      "Wall time: 795 µs\n",
      "CPU times: user 81.8 ms, sys: 11 µs, total: 81.8 ms\n",
      "Wall time: 81.9 ms\n",
      "CPU times: user 1min 21s, sys: 777 ms, total: 1min 22s\n",
      "Wall time: 1min 21s\n",
      "CPU times: user 0 ns, sys: 2.86 ms, total: 2.86 ms\n",
      "Wall time: 2.3 ms\n",
      "CPU times: user 1min 11s, sys: 976 ms, total: 1min 12s\n",
      "Wall time: 1min 1s\n"
     ]
    }
   ],
   "source": [
    "import pandas as pd\n",
    "from fbprophet import Prophet\n",
    "import time\n",
    "\n",
    "_file_name = \"./dataset/CPU.csv\"\n",
    "%time df = pd.read_csv(_file_name, index_col=0,usecols=[0,23])\n",
    "%time df.rename(columns={'Deployment:compass-backend-latestdongwu':'y'}, inplace = True)\n",
    "%time df[\"ds\"] = df.index\n",
    "%time df['ds'] = df['ds'].apply(lambda x:time.strftime(\"%Y-%m-%d %H:%M\", time.localtime(x)))\n"
   ]
  },
  {
   "cell_type": "code",
   "execution_count": null,
   "metadata": {},
   "outputs": [],
   "source": [
    "# prophet fit\n",
    "m = Prophet(interval_width=0.95)\n",
    "%time m.fit(df)\n",
    "%time future = m.make_future_dataframe(periods=60, freq='min')\n",
    "\n",
    "%time forecast = m.predict(future)"
   ]
  },
  {
   "cell_type": "code",
   "execution_count": 56,
   "metadata": {},
   "outputs": [],
   "source": [
    "# save model \n",
    "import pickle\n",
    "# pkl_path 模型保存地址\n",
    "pkl_path = \"./checkpoints/Prophet.pkl\"\n",
    "\n",
    "try:\n",
    "    with open(pkl_path, \"wb\") as f:\n",
    "    # Pickle the 'Prophet' model using the highest protocol available.\n",
    "        pickle.dump(m, f)\n",
    "except:\n",
    "    logger.error(\"prophet model save error\")"
   ]
  },
  {
   "cell_type": "code",
   "execution_count": 58,
   "metadata": {},
   "outputs": [
    {
     "name": "stdout",
     "output_type": "stream",
     "text": [
      "CPU times: user 2.34 ms, sys: 28 µs, total: 2.37 ms\n",
      "Wall time: 2.38 ms\n"
     ]
    },
    {
     "data": {
      "text/plain": [
       "<bound method DataFrame.info of                        ds\n",
       "0     2020-03-04 15:23:00\n",
       "1     2020-03-04 15:24:00\n",
       "2     2020-03-04 15:25:00\n",
       "3     2020-03-04 15:26:00\n",
       "4     2020-03-04 15:27:00\n",
       "...                   ...\n",
       "43314 2020-04-03 17:11:00\n",
       "43315 2020-04-03 17:12:00\n",
       "43316 2020-04-03 17:13:00\n",
       "43317 2020-04-03 17:14:00\n",
       "43318 2020-04-03 17:15:00\n",
       "\n",
       "[43319 rows x 1 columns]>"
      ]
     },
     "execution_count": 58,
     "metadata": {},
     "output_type": "execute_result"
    }
   ],
   "source": [
    "# load model \n",
    "pkl_path = \"./checkpoints/Prophet.pkl\"\n",
    "\n",
    "try:\n",
    "    with open(pkl_path, 'rb') as f:\n",
    "        model = pickle.load(f)\n",
    "except:\n",
    "    logger.error(\"prophet model load error\")\n",
    "\n",
    "%time future2 = model.make_future_dataframe(periods=60, freq='min')\n",
    "future.info"
   ]
  },
  {
   "cell_type": "code",
   "execution_count": 46,
   "metadata": {},
   "outputs": [
    {
     "name": "stdout",
     "output_type": "stream",
     "text": [
      "             ds      yhat\n",
      "0  1.585914e+09  0.402481\n",
      "1  1.585914e+09  0.401496\n",
      "2  1.585914e+09  0.400561\n",
      "3  1.585914e+09  0.399675\n",
      "4  1.585915e+09  0.398836\n",
      "[[ 1  3]\n",
      " [ 2  7]\n",
      " [ 3 10]]\n"
     ]
    }
   ],
   "source": [
    "import json\n",
    "import numpy as np\n",
    "_tmp = forecast.loc[:,[\"ds\", \"yhat\"]]\n",
    "# dataframe `%Y-%m-%d %H:%M:%S`时间 => 时间戳\n",
    "_tmp['ds'] = _tmp['ds'].apply(lambda x:time.mktime(time.strptime(str(x), \"%Y-%m-%d %H:%M:%S\")))\n",
    "\n",
    "print(_tmp.head())\n",
    "arr = np.array([[1,3],[2,7],[3,10]])\n",
    "print(arr)"
   ]
  },
  {
   "cell_type": "code",
   "execution_count": 15,
   "metadata": {},
   "outputs": [
    {
     "name": "stdout",
     "output_type": "stream",
     "text": [
      "CPU times: user 506 ms, sys: 28 ms, total: 534 ms\n",
      "Wall time: 534 ms\n",
      "CPU times: user 2.56 ms, sys: 0 ns, total: 2.56 ms\n",
      "Wall time: 2.51 ms\n"
     ]
    },
    {
     "ename": "KeyboardInterrupt",
     "evalue": "",
     "output_type": "error",
     "traceback": [
      "\u001b[0;31m---------------------------------------------------------------------------\u001b[0m",
      "\u001b[0;31mKeyboardInterrupt\u001b[0m                         Traceback (most recent call last)",
      "\u001b[0;32m<timed exec>\u001b[0m in \u001b[0;36m<module>\u001b[0;34m\u001b[0m\n",
      "\u001b[0;32m~/anaconda3/envs/fore/lib/python3.6/site-packages/fbprophet/forecaster.py\u001b[0m in \u001b[0;36mpredict\u001b[0;34m(self, df)\u001b[0m\n\u001b[1;32m   1174\u001b[0m         \u001b[0mdf\u001b[0m\u001b[0;34m[\u001b[0m\u001b[0;34m'trend'\u001b[0m\u001b[0;34m]\u001b[0m \u001b[0;34m=\u001b[0m \u001b[0mself\u001b[0m\u001b[0;34m.\u001b[0m\u001b[0mpredict_trend\u001b[0m\u001b[0;34m(\u001b[0m\u001b[0mdf\u001b[0m\u001b[0;34m)\u001b[0m\u001b[0;34m\u001b[0m\u001b[0;34m\u001b[0m\u001b[0m\n\u001b[1;32m   1175\u001b[0m         \u001b[0mseasonal_components\u001b[0m \u001b[0;34m=\u001b[0m \u001b[0mself\u001b[0m\u001b[0;34m.\u001b[0m\u001b[0mpredict_seasonal_components\u001b[0m\u001b[0;34m(\u001b[0m\u001b[0mdf\u001b[0m\u001b[0;34m)\u001b[0m\u001b[0;34m\u001b[0m\u001b[0;34m\u001b[0m\u001b[0m\n\u001b[0;32m-> 1176\u001b[0;31m         \u001b[0mintervals\u001b[0m \u001b[0;34m=\u001b[0m \u001b[0mself\u001b[0m\u001b[0;34m.\u001b[0m\u001b[0mpredict_uncertainty\u001b[0m\u001b[0;34m(\u001b[0m\u001b[0mdf\u001b[0m\u001b[0;34m)\u001b[0m\u001b[0;34m\u001b[0m\u001b[0;34m\u001b[0m\u001b[0m\n\u001b[0m\u001b[1;32m   1177\u001b[0m \u001b[0;34m\u001b[0m\u001b[0m\n\u001b[1;32m   1178\u001b[0m         \u001b[0;31m# Drop columns except ds, cap, floor, and trend\u001b[0m\u001b[0;34m\u001b[0m\u001b[0;34m\u001b[0m\u001b[0;34m\u001b[0m\u001b[0m\n",
      "\u001b[0;32m~/anaconda3/envs/fore/lib/python3.6/site-packages/fbprophet/forecaster.py\u001b[0m in \u001b[0;36mpredict_uncertainty\u001b[0;34m(self, df)\u001b[0m\n\u001b[1;32m   1386\u001b[0m                 sim_values[key], lower_p, axis=1)\n\u001b[1;32m   1387\u001b[0m             series['{}_upper'.format(key)] = np.nanpercentile(\n\u001b[0;32m-> 1388\u001b[0;31m                 sim_values[key], upper_p, axis=1)\n\u001b[0m\u001b[1;32m   1389\u001b[0m \u001b[0;34m\u001b[0m\u001b[0m\n\u001b[1;32m   1390\u001b[0m         \u001b[0;32mreturn\u001b[0m \u001b[0mpd\u001b[0m\u001b[0;34m.\u001b[0m\u001b[0mDataFrame\u001b[0m\u001b[0;34m(\u001b[0m\u001b[0mseries\u001b[0m\u001b[0;34m)\u001b[0m\u001b[0;34m\u001b[0m\u001b[0;34m\u001b[0m\u001b[0m\n",
      "\u001b[0;32m<__array_function__ internals>\u001b[0m in \u001b[0;36mnanpercentile\u001b[0;34m(*args, **kwargs)\u001b[0m\n",
      "\u001b[0;32m~/anaconda3/envs/fore/lib/python3.6/site-packages/numpy/lib/nanfunctions.py\u001b[0m in \u001b[0;36mnanpercentile\u001b[0;34m(a, q, axis, out, overwrite_input, interpolation, keepdims)\u001b[0m\n\u001b[1;32m   1243\u001b[0m         \u001b[0;32mraise\u001b[0m \u001b[0mValueError\u001b[0m\u001b[0;34m(\u001b[0m\u001b[0;34m\"Percentiles must be in the range [0, 100]\"\u001b[0m\u001b[0;34m)\u001b[0m\u001b[0;34m\u001b[0m\u001b[0;34m\u001b[0m\u001b[0m\n\u001b[1;32m   1244\u001b[0m     return _nanquantile_unchecked(\n\u001b[0;32m-> 1245\u001b[0;31m         a, q, axis, out, overwrite_input, interpolation, keepdims)\n\u001b[0m\u001b[1;32m   1246\u001b[0m \u001b[0;34m\u001b[0m\u001b[0m\n\u001b[1;32m   1247\u001b[0m \u001b[0;34m\u001b[0m\u001b[0m\n",
      "\u001b[0;32m~/anaconda3/envs/fore/lib/python3.6/site-packages/numpy/lib/nanfunctions.py\u001b[0m in \u001b[0;36m_nanquantile_unchecked\u001b[0;34m(a, q, axis, out, overwrite_input, interpolation, keepdims)\u001b[0m\n\u001b[1;32m   1369\u001b[0m     r, k = function_base._ureduce(\n\u001b[1;32m   1370\u001b[0m         \u001b[0ma\u001b[0m\u001b[0;34m,\u001b[0m \u001b[0mfunc\u001b[0m\u001b[0;34m=\u001b[0m\u001b[0m_nanquantile_ureduce_func\u001b[0m\u001b[0;34m,\u001b[0m \u001b[0mq\u001b[0m\u001b[0;34m=\u001b[0m\u001b[0mq\u001b[0m\u001b[0;34m,\u001b[0m \u001b[0maxis\u001b[0m\u001b[0;34m=\u001b[0m\u001b[0maxis\u001b[0m\u001b[0;34m,\u001b[0m \u001b[0mout\u001b[0m\u001b[0;34m=\u001b[0m\u001b[0mout\u001b[0m\u001b[0;34m,\u001b[0m\u001b[0;34m\u001b[0m\u001b[0;34m\u001b[0m\u001b[0m\n\u001b[0;32m-> 1371\u001b[0;31m         \u001b[0moverwrite_input\u001b[0m\u001b[0;34m=\u001b[0m\u001b[0moverwrite_input\u001b[0m\u001b[0;34m,\u001b[0m \u001b[0minterpolation\u001b[0m\u001b[0;34m=\u001b[0m\u001b[0minterpolation\u001b[0m\u001b[0;34m\u001b[0m\u001b[0;34m\u001b[0m\u001b[0m\n\u001b[0m\u001b[1;32m   1372\u001b[0m     )\n\u001b[1;32m   1373\u001b[0m     \u001b[0;32mif\u001b[0m \u001b[0mkeepdims\u001b[0m \u001b[0;32mand\u001b[0m \u001b[0mkeepdims\u001b[0m \u001b[0;32mis\u001b[0m \u001b[0;32mnot\u001b[0m \u001b[0mnp\u001b[0m\u001b[0;34m.\u001b[0m\u001b[0m_NoValue\u001b[0m\u001b[0;34m:\u001b[0m\u001b[0;34m\u001b[0m\u001b[0;34m\u001b[0m\u001b[0m\n",
      "\u001b[0;32m~/anaconda3/envs/fore/lib/python3.6/site-packages/numpy/lib/function_base.py\u001b[0m in \u001b[0;36m_ureduce\u001b[0;34m(a, func, **kwargs)\u001b[0m\n\u001b[1;32m   3408\u001b[0m         \u001b[0mkeepdim\u001b[0m \u001b[0;34m=\u001b[0m \u001b[0;34m(\u001b[0m\u001b[0;36m1\u001b[0m\u001b[0;34m,\u001b[0m\u001b[0;34m)\u001b[0m \u001b[0;34m*\u001b[0m \u001b[0ma\u001b[0m\u001b[0;34m.\u001b[0m\u001b[0mndim\u001b[0m\u001b[0;34m\u001b[0m\u001b[0;34m\u001b[0m\u001b[0m\n\u001b[1;32m   3409\u001b[0m \u001b[0;34m\u001b[0m\u001b[0m\n\u001b[0;32m-> 3410\u001b[0;31m     \u001b[0mr\u001b[0m \u001b[0;34m=\u001b[0m \u001b[0mfunc\u001b[0m\u001b[0;34m(\u001b[0m\u001b[0ma\u001b[0m\u001b[0;34m,\u001b[0m \u001b[0;34m**\u001b[0m\u001b[0mkwargs\u001b[0m\u001b[0;34m)\u001b[0m\u001b[0;34m\u001b[0m\u001b[0;34m\u001b[0m\u001b[0m\n\u001b[0m\u001b[1;32m   3411\u001b[0m     \u001b[0;32mreturn\u001b[0m \u001b[0mr\u001b[0m\u001b[0;34m,\u001b[0m \u001b[0mkeepdim\u001b[0m\u001b[0;34m\u001b[0m\u001b[0;34m\u001b[0m\u001b[0m\n\u001b[1;32m   3412\u001b[0m \u001b[0;34m\u001b[0m\u001b[0m\n",
      "\u001b[0;32m~/anaconda3/envs/fore/lib/python3.6/site-packages/numpy/lib/nanfunctions.py\u001b[0m in \u001b[0;36m_nanquantile_ureduce_func\u001b[0;34m(a, q, axis, out, overwrite_input, interpolation)\u001b[0m\n\u001b[1;32m   1389\u001b[0m     \u001b[0;32melse\u001b[0m\u001b[0;34m:\u001b[0m\u001b[0;34m\u001b[0m\u001b[0;34m\u001b[0m\u001b[0m\n\u001b[1;32m   1390\u001b[0m         result = np.apply_along_axis(_nanquantile_1d, axis, a, q,\n\u001b[0;32m-> 1391\u001b[0;31m                                      overwrite_input, interpolation)\n\u001b[0m\u001b[1;32m   1392\u001b[0m         \u001b[0;31m# apply_along_axis fills in collapsed axis with results.\u001b[0m\u001b[0;34m\u001b[0m\u001b[0;34m\u001b[0m\u001b[0;34m\u001b[0m\u001b[0m\n\u001b[1;32m   1393\u001b[0m         \u001b[0;31m# Move that axis to the beginning to match percentile's\u001b[0m\u001b[0;34m\u001b[0m\u001b[0;34m\u001b[0m\u001b[0;34m\u001b[0m\u001b[0m\n",
      "\u001b[0;32m<__array_function__ internals>\u001b[0m in \u001b[0;36mapply_along_axis\u001b[0;34m(*args, **kwargs)\u001b[0m\n",
      "\u001b[0;32m~/anaconda3/envs/fore/lib/python3.6/site-packages/numpy/lib/shape_base.py\u001b[0m in \u001b[0;36mapply_along_axis\u001b[0;34m(func1d, axis, arr, *args, **kwargs)\u001b[0m\n\u001b[1;32m    400\u001b[0m     \u001b[0mbuff\u001b[0m\u001b[0;34m[\u001b[0m\u001b[0mind0\u001b[0m\u001b[0;34m]\u001b[0m \u001b[0;34m=\u001b[0m \u001b[0mres\u001b[0m\u001b[0;34m\u001b[0m\u001b[0;34m\u001b[0m\u001b[0m\n\u001b[1;32m    401\u001b[0m     \u001b[0;32mfor\u001b[0m \u001b[0mind\u001b[0m \u001b[0;32min\u001b[0m \u001b[0minds\u001b[0m\u001b[0;34m:\u001b[0m\u001b[0;34m\u001b[0m\u001b[0;34m\u001b[0m\u001b[0m\n\u001b[0;32m--> 402\u001b[0;31m         \u001b[0mbuff\u001b[0m\u001b[0;34m[\u001b[0m\u001b[0mind\u001b[0m\u001b[0;34m]\u001b[0m \u001b[0;34m=\u001b[0m \u001b[0masanyarray\u001b[0m\u001b[0;34m(\u001b[0m\u001b[0mfunc1d\u001b[0m\u001b[0;34m(\u001b[0m\u001b[0minarr_view\u001b[0m\u001b[0;34m[\u001b[0m\u001b[0mind\u001b[0m\u001b[0;34m]\u001b[0m\u001b[0;34m,\u001b[0m \u001b[0;34m*\u001b[0m\u001b[0margs\u001b[0m\u001b[0;34m,\u001b[0m \u001b[0;34m**\u001b[0m\u001b[0mkwargs\u001b[0m\u001b[0;34m)\u001b[0m\u001b[0;34m)\u001b[0m\u001b[0;34m\u001b[0m\u001b[0;34m\u001b[0m\u001b[0m\n\u001b[0m\u001b[1;32m    403\u001b[0m \u001b[0;34m\u001b[0m\u001b[0m\n\u001b[1;32m    404\u001b[0m     \u001b[0;32mif\u001b[0m \u001b[0;32mnot\u001b[0m \u001b[0misinstance\u001b[0m\u001b[0;34m(\u001b[0m\u001b[0mres\u001b[0m\u001b[0;34m,\u001b[0m \u001b[0mmatrix\u001b[0m\u001b[0;34m)\u001b[0m\u001b[0;34m:\u001b[0m\u001b[0;34m\u001b[0m\u001b[0;34m\u001b[0m\u001b[0m\n",
      "\u001b[0;32m~/anaconda3/envs/fore/lib/python3.6/site-packages/numpy/lib/nanfunctions.py\u001b[0m in \u001b[0;36m_nanquantile_1d\u001b[0;34m(arr1d, q, overwrite_input, interpolation)\u001b[0m\n\u001b[1;32m   1407\u001b[0m     \"\"\"\n\u001b[1;32m   1408\u001b[0m     arr1d, overwrite_input = _remove_nan_1d(arr1d,\n\u001b[0;32m-> 1409\u001b[0;31m         overwrite_input=overwrite_input)\n\u001b[0m\u001b[1;32m   1410\u001b[0m     \u001b[0;32mif\u001b[0m \u001b[0marr1d\u001b[0m\u001b[0;34m.\u001b[0m\u001b[0msize\u001b[0m \u001b[0;34m==\u001b[0m \u001b[0;36m0\u001b[0m\u001b[0;34m:\u001b[0m\u001b[0;34m\u001b[0m\u001b[0;34m\u001b[0m\u001b[0m\n\u001b[1;32m   1411\u001b[0m         \u001b[0;32mreturn\u001b[0m \u001b[0mnp\u001b[0m\u001b[0;34m.\u001b[0m\u001b[0mfull\u001b[0m\u001b[0;34m(\u001b[0m\u001b[0mq\u001b[0m\u001b[0;34m.\u001b[0m\u001b[0mshape\u001b[0m\u001b[0;34m,\u001b[0m \u001b[0mnp\u001b[0m\u001b[0;34m.\u001b[0m\u001b[0mnan\u001b[0m\u001b[0;34m)\u001b[0m\u001b[0;34m[\u001b[0m\u001b[0;34m(\u001b[0m\u001b[0;34m)\u001b[0m\u001b[0;34m]\u001b[0m  \u001b[0;31m# convert to scalar\u001b[0m\u001b[0;34m\u001b[0m\u001b[0;34m\u001b[0m\u001b[0m\n",
      "\u001b[0;32m~/anaconda3/envs/fore/lib/python3.6/site-packages/numpy/lib/nanfunctions.py\u001b[0m in \u001b[0;36m_remove_nan_1d\u001b[0;34m(arr1d, overwrite_input)\u001b[0m\n\u001b[1;32m    163\u001b[0m     \"\"\"\n\u001b[1;32m    164\u001b[0m \u001b[0;34m\u001b[0m\u001b[0m\n\u001b[0;32m--> 165\u001b[0;31m     \u001b[0mc\u001b[0m \u001b[0;34m=\u001b[0m \u001b[0mnp\u001b[0m\u001b[0;34m.\u001b[0m\u001b[0misnan\u001b[0m\u001b[0;34m(\u001b[0m\u001b[0marr1d\u001b[0m\u001b[0;34m)\u001b[0m\u001b[0;34m\u001b[0m\u001b[0;34m\u001b[0m\u001b[0m\n\u001b[0m\u001b[1;32m    166\u001b[0m     \u001b[0ms\u001b[0m \u001b[0;34m=\u001b[0m \u001b[0mnp\u001b[0m\u001b[0;34m.\u001b[0m\u001b[0mnonzero\u001b[0m\u001b[0;34m(\u001b[0m\u001b[0mc\u001b[0m\u001b[0;34m)\u001b[0m\u001b[0;34m[\u001b[0m\u001b[0;36m0\u001b[0m\u001b[0;34m]\u001b[0m\u001b[0;34m\u001b[0m\u001b[0;34m\u001b[0m\u001b[0m\n\u001b[1;32m    167\u001b[0m     \u001b[0;32mif\u001b[0m \u001b[0ms\u001b[0m\u001b[0;34m.\u001b[0m\u001b[0msize\u001b[0m \u001b[0;34m==\u001b[0m \u001b[0marr1d\u001b[0m\u001b[0;34m.\u001b[0m\u001b[0msize\u001b[0m\u001b[0;34m:\u001b[0m\u001b[0;34m\u001b[0m\u001b[0;34m\u001b[0m\u001b[0m\n",
      "\u001b[0;31mKeyboardInterrupt\u001b[0m: "
     ]
    },
    {
     "name": "stdout",
     "output_type": "stream",
     "text": [
      "CPU times: user 17.5 ms, sys: 3.96 ms, total: 21.5 ms\n",
      "Wall time: 21.4 ms\n",
      "CPU times: user 7.79 ms, sys: 0 ns, total: 7.79 ms\n",
      "Wall time: 7.72 ms\n"
     ]
    },
    {
     "ename": "NameError",
     "evalue": "name 'plt' is not defined",
     "output_type": "error",
     "traceback": [
      "\u001b[0;31m---------------------------------------------------------------------------\u001b[0m",
      "\u001b[0;31mNameError\u001b[0m                                 Traceback (most recent call last)",
      "\u001b[0;32m<ipython-input-15-905f929222d8>\u001b[0m in \u001b[0;36m<module>\u001b[0;34m\u001b[0m\n\u001b[1;32m     26\u001b[0m \u001b[0mget_ipython\u001b[0m\u001b[0;34m(\u001b[0m\u001b[0;34m)\u001b[0m\u001b[0;34m.\u001b[0m\u001b[0mrun_line_magic\u001b[0m\u001b[0;34m(\u001b[0m\u001b[0;34m'time'\u001b[0m\u001b[0;34m,\u001b[0m \u001b[0;34m'pyplot.plot(fit_x, fit_y, color=\"red\", label=\"fit_data\")'\u001b[0m\u001b[0;34m)\u001b[0m\u001b[0;34m\u001b[0m\u001b[0;34m\u001b[0m\u001b[0m\n\u001b[1;32m     27\u001b[0m \u001b[0mpyplot\u001b[0m\u001b[0;34m.\u001b[0m\u001b[0mlegend\u001b[0m\u001b[0;34m(\u001b[0m\u001b[0mloc\u001b[0m\u001b[0;34m=\u001b[0m\u001b[0;34m'upper left'\u001b[0m\u001b[0;34m)\u001b[0m\u001b[0;34m\u001b[0m\u001b[0;34m\u001b[0m\u001b[0m\n\u001b[0;32m---> 28\u001b[0;31m \u001b[0mplt\u001b[0m\u001b[0;34m.\u001b[0m\u001b[0msavefig\u001b[0m\u001b[0;34m(\u001b[0m\u001b[0;34m'./checkpoints/prophet.png'\u001b[0m\u001b[0;34m)\u001b[0m\u001b[0;34m\u001b[0m\u001b[0;34m\u001b[0m\u001b[0m\n\u001b[0m",
      "\u001b[0;31mNameError\u001b[0m: name 'plt' is not defined"
     ]
    },
    {
     "data": {
      "image/png": "[encoded data removed]",
      "text/plain": [
       "<Figure size 432x288 with 1 Axes>"
      ]
     },
     "metadata": {
      "needs_background": "light"
     },
     "output_type": "display_data"
    }
   ],
   "source": [
    "from models.prophet_model import ProphetModel\n",
    "from data.resource_data import ResourceQuery\n",
    "prophet_model = ProphetModel()\n",
    "    # prophet_model.train_model(ResourceQuery.MEM)\n",
    "\n",
    "# 获取原始数据\n",
    "%time df = prophet_model._preprocess_data()\n",
    "\n",
    "# 读取模型\n",
    "%time model = prophet_model._load_model(ResourceQuery.MEM)\n",
    "\n",
    "future = model.make_future_dataframe(periods=60, freq='min')\n",
    "\n",
    "# 获得拟合数据\n",
    "%time forecast = model.predict(future)\n"
   ]
  },
  {
   "cell_type": "code",
   "execution_count": 16,
   "metadata": {},
   "outputs": [
    {
     "name": "stdout",
     "output_type": "stream",
     "text": [
      "CPU times: user 29.9 ms, sys: 0 ns, total: 29.9 ms\n",
      "Wall time: 29.5 ms\n",
      "CPU times: user 3.9 ms, sys: 3.98 ms, total: 7.89 ms\n",
      "Wall time: 7.74 ms\n",
      "CPU times: user 126 ms, sys: 7 µs, total: 126 ms\n",
      "Wall time: 126 ms\n"
     ]
    },
    {
     "data": {
      "image/png": "[encoded data removed]",
      "text/plain": [
       "<Figure size 432x288 with 1 Axes>"
      ]
     },
     "metadata": {
      "needs_background": "light"
     },
     "output_type": "display_data"
    }
   ],
   "source": [
    "from matplotlib import pyplot\n",
    "# 绘制图像\n",
    "fit_x = forecast['ds']\n",
    "origin_x = fit_x.iloc[:-60]\n",
    "\n",
    "fit_y = forecast['yhat']\n",
    "origin_y = df['y']\n",
    "\n",
    "%time pyplot.plot(origin_x, origin_y, color=\"blue\", label=\"origin_data\")\n",
    "%time pyplot.plot(fit_x, fit_y, color=\"red\", label=\"fit_data\")\n",
    "pyplot.legend(loc='upper left')\n",
    "%time pyplot.savefig('./checkpoints/prophet.png')"
   ]
  },
  {
   "cell_type": "code",
   "execution_count": 7,
   "metadata": {},
   "outputs": [
    {
     "name": "stdout",
     "output_type": "stream",
     "text": [
      "                   ds     trend  yhat_lower  yhat_upper  trend_lower  \\\n",
      "0 2020-03-04 15:23:00  0.620432    0.483313    2.097415     0.620432   \n",
      "1 2020-03-04 15:24:00  0.620189    0.394683    1.995925     0.620189   \n",
      "2 2020-03-04 15:25:00  0.619947    0.499871    2.051158     0.619947   \n",
      "3 2020-03-04 15:26:00  0.619704    0.425290    1.970233     0.619704   \n",
      "4 2020-03-04 15:27:00  0.619462    0.415629    2.031473     0.619462   \n",
      "\n",
      "   trend_upper  additive_terms  additive_terms_lower  additive_terms_upper  \\\n",
      "0     0.620432        0.613247              0.613247              0.613247   \n",
      "1     0.620189        0.611834              0.611834              0.611834   \n",
      "2     0.619947        0.610364              0.610364              0.610364   \n",
      "3     0.619704        0.608838              0.608838              0.608838   \n",
      "4     0.619462        0.607254              0.607254              0.607254   \n",
      "\n",
      "      daily  daily_lower  daily_upper    weekly  weekly_lower  weekly_upper  \\\n",
      "0  0.753965     0.753965     0.753965 -0.140718     -0.140718     -0.140718   \n",
      "1  0.752408     0.752408     0.752408 -0.140574     -0.140574     -0.140574   \n",
      "2  0.750794     0.750794     0.750794 -0.140430     -0.140430     -0.140430   \n",
      "3  0.749123     0.749123     0.749123 -0.140285     -0.140285     -0.140285   \n",
      "4  0.747395     0.747395     0.747395 -0.140141     -0.140141     -0.140141   \n",
      "\n",
      "   multiplicative_terms  multiplicative_terms_lower  \\\n",
      "0                   0.0                         0.0   \n",
      "1                   0.0                         0.0   \n",
      "2                   0.0                         0.0   \n",
      "3                   0.0                         0.0   \n",
      "4                   0.0                         0.0   \n",
      "\n",
      "   multiplicative_terms_upper      yhat  \n",
      "0                         0.0  1.233678  \n",
      "1                         0.0  1.232023  \n",
      "2                         0.0  1.230311  \n",
      "3                         0.0  1.228542  \n",
      "4                         0.0  1.226716  \n",
      "                   y                ds\n",
      "1583306580  0.366827  2020-03-04 15:23\n",
      "1583306640  0.297738  2020-03-04 15:24\n",
      "1583306700  0.381014  2020-03-04 15:25\n",
      "1583306760  0.343833  2020-03-04 15:26\n",
      "1583306820  0.337749  2020-03-04 15:27\n"
     ]
    }
   ],
   "source": [
    "print(forecast.head())\n",
    "print(df.head())"
   ]
  },
  {
   "cell_type": "code",
   "execution_count": 19,
   "metadata": {},
   "outputs": [
    {
     "name": "stdout",
     "output_type": "stream",
     "text": [
      "['cold' 'cold' 'warm' 'cold' 'hot' 'hot' 'warm' 'cold' 'warm' 'hot']\n",
      "[0 0 2 0 1 1 2 0 2 1]\n",
      "[[1. 0. 0.]\n",
      " [1. 0. 0.]\n",
      " [0. 0. 1.]\n",
      " [1. 0. 0.]\n",
      " [0. 1. 0.]\n",
      " [0. 1. 0.]\n",
      " [0. 0. 1.]\n",
      " [1. 0. 0.]\n",
      " [0. 0. 1.]\n",
      " [0. 1. 0.]]\n",
      "['cold']\n"
     ]
    }
   ],
   "source": [
    "from numpy import array\n",
    "from numpy import argmax\n",
    "\n",
    "from sklearn.preprocessing import LabelEncoder\n",
    "\n",
    "from sklearn.preprocessing import OneHotEncoder\n",
    "\n",
    "# define example\n",
    "data = [ 'cold' , 'cold' , 'warm' , 'cold' , 'hot' , 'hot' , 'warm' , 'cold' , 'warm' , 'hot' ]\n",
    "\n",
    "values = array(data)\n",
    "\n",
    "print(values)\n",
    "\n",
    "# integer encode\n",
    "label_encoder = LabelEncoder ()\n",
    "\n",
    "integer_encoded = label_encoder.fit_transform(values)\n",
    "\n",
    "print(integer_encoded)\n",
    "\n",
    "# binary encode\n",
    "onehot_encoder = OneHotEncoder (sparse= False )\n",
    "\n",
    "integer_encoded = integer_encoded.reshape(len(integer_encoded), 1 )\n",
    "\n",
    "onehot_encoded = onehot_encoder.fit_transform(integer_encoded)\n",
    "\n",
    "print(onehot_encoded)\n",
    "\n",
    "# invert first example\n",
    "\n",
    "inverted = label_encoder.inverse_transform([argmax(onehot_encoded[ 0 , :])])\n",
    "\n",
    "print(inverted)"
   ]
  },
  {
   "cell_type": "markdown",
   "metadata": {},
   "source": [
    "### LSTM 训练"
   ]
  },
  {
   "cell_type": "code",
   "execution_count": 33,
   "metadata": {},
   "outputs": [
    {
     "name": "stdout",
     "output_type": "stream",
     "text": [
      "CPU times: user 808 ms, sys: 52.1 ms, total: 860 ms\n",
      "Wall time: 861 ms\n",
      "            DaemonSet:fluent-bitkubesphere-logging-system  \\\n",
      "1583306580                                    525938688.0   \n",
      "1583306640                                    526602240.0   \n",
      "1583306700                                    526114816.0   \n",
      "1583306760                                    526200832.0   \n",
      "1583306820                                    527966208.0   \n",
      "\n",
      "            DaemonSet:gateway-ingress-nginx-ingress-controllergateway  \\\n",
      "1583306580                                       5.200790e+09           \n",
      "1583306640                                       5.200810e+09           \n",
      "1583306700                                       5.200912e+09           \n",
      "1583306760                                       5.200699e+09           \n",
      "1583306820                                       5.201338e+09           \n",
      "\n",
      "            DaemonSet:icagentkube-system  \\\n",
      "1583306580                  2.297573e+09   \n",
      "1583306640                  2.321609e+09   \n",
      "1583306700                  2.316984e+09   \n",
      "1583306760                  2.327261e+09   \n",
      "1583306820                  2.335031e+09   \n",
      "\n",
      "            DaemonSet:node-exporterkubesphere-monitoring-system  \\\n",
      "1583306580                                        703307776.0     \n",
      "1583306640                                        701661184.0     \n",
      "1583306700                                        701661184.0     \n",
      "1583306760                                        703086592.0     \n",
      "1583306820                                        703987712.0     \n",
      "\n",
      "            DaemonSet:storage-driverkube-system  \\\n",
      "1583306580                         3.303989e+09   \n",
      "1583306640                         3.303989e+09   \n",
      "1583306700                         3.303989e+09   \n",
      "1583306760                         3.303989e+09   \n",
      "1583306820                         3.303989e+09   \n",
      "\n",
      "            Deployment:alerting-clientkubesphere-alerting-system  \\\n",
      "1583306580                                         56926208.0      \n",
      "1583306640                                         56926208.0      \n",
      "1583306700                                         56926208.0      \n",
      "1583306760                                         56926208.0      \n",
      "1583306820                                         56926208.0      \n",
      "\n",
      "            Deployment:alerting-executorkubesphere-alerting-system  \\\n",
      "1583306580                                        145039360.0        \n",
      "1583306640                                        145039360.0        \n",
      "1583306700                                        145039360.0        \n",
      "1583306760                                        145072128.0        \n",
      "1583306820                                        145072128.0        \n",
      "\n",
      "            Deployment:alerting-managerkubesphere-alerting-system  \\\n",
      "1583306580                                         71049216.0       \n",
      "1583306640                                         71049216.0       \n",
      "1583306700                                         70983680.0       \n",
      "1583306760                                         70983680.0       \n",
      "1583306820                                         70983680.0       \n",
      "\n",
      "            Deployment:alerting-watcherkubesphere-alerting-system  \\\n",
      "1583306580                                         80904192.0       \n",
      "1583306640                                         81055744.0       \n",
      "1583306700                                         81076224.0       \n",
      "1583306760                                         81084416.0       \n",
      "1583306820                                         81100800.0       \n",
      "\n",
      "            Deployment:app-console-20191211project-fangshan  ...  \\\n",
      "1583306580                                       38780928.0  ...   \n",
      "1583306640                                       39149568.0  ...   \n",
      "1583306700                                       38780928.0  ...   \n",
      "1583306760                                       38780928.0  ...   \n",
      "1583306820                                       39186432.0  ...   \n",
      "\n",
      "            StatefulSet:compass-redis-latest-masterproject-unicom  \\\n",
      "1583306580                                                NaN       \n",
      "1583306640                                                NaN       \n",
      "1583306700                                                NaN       \n",
      "1583306760                                                NaN       \n",
      "1583306820                                                NaN       \n",
      "\n",
      "            StatefulSet:compass-redis-latest-slaveproject-unicom  \\\n",
      "1583306580                                                NaN      \n",
      "1583306640                                                NaN      \n",
      "1583306700                                                NaN      \n",
      "1583306760                                                NaN      \n",
      "1583306820                                                NaN      \n",
      "\n",
      "            StatefulSet:elasticsearch-logging-datakubesphere-logging-system  \\\n",
      "1583306580                                       8.090037e+10                 \n",
      "1583306640                                       8.093124e+10                 \n",
      "1583306700                                       8.096248e+10                 \n",
      "1583306760                                       8.099420e+10                 \n",
      "1583306820                                       8.102619e+10                 \n",
      "\n",
      "            StatefulSet:elasticsearch-logging-discoverykubesphere-logging-system  \\\n",
      "1583306580                                       3.142054e+09                      \n",
      "1583306640                                       3.142066e+09                      \n",
      "1583306700                                       3.142074e+09                      \n",
      "1583306760                                       3.142087e+09                      \n",
      "1583306820                                       3.142099e+09                      \n",
      "\n",
      "            StatefulSet:harbor-harbor-databaseharbor  \\\n",
      "1583306580                               563552256.0   \n",
      "1583306640                               563625984.0   \n",
      "1583306700                               563724288.0   \n",
      "1583306760                               563552256.0   \n",
      "1583306820                               563888128.0   \n",
      "\n",
      "            StatefulSet:harbor-harbor-redisharbor  \\\n",
      "1583306580                             45588480.0   \n",
      "1583306640                             45588480.0   \n",
      "1583306700                             45588480.0   \n",
      "1583306760                             45588480.0   \n",
      "1583306820                             45588480.0   \n",
      "\n",
      "            StatefulSet:kong-postgresqlapi-gateway-kong  \\\n",
      "1583306580                                  415277056.0   \n",
      "1583306640                                  411934720.0   \n",
      "1583306700                                  411078656.0   \n",
      "1583306760                                  410935296.0   \n",
      "1583306820                                  414539776.0   \n",
      "\n",
      "            StatefulSet:openldapkubesphere-system  \\\n",
      "1583306580                            167043072.0   \n",
      "1583306640                            167043072.0   \n",
      "1583306700                            167043072.0   \n",
      "1583306760                            167043072.0   \n",
      "1583306820                            167043072.0   \n",
      "\n",
      "            StatefulSet:prometheus-k8s-systemkubesphere-monitoring-system  \\\n",
      "1583306580                                       3.548795e+09               \n",
      "1583306640                                       3.549659e+09               \n",
      "1583306700                                       3.550011e+09               \n",
      "1583306760                                       3.550507e+09               \n",
      "1583306820                                       3.550253e+09               \n",
      "\n",
      "            StatefulSet:prometheus-k8skubesphere-monitoring-system  \n",
      "1583306580                                       2.209812e+09       \n",
      "1583306640                                       2.217079e+09       \n",
      "1583306700                                       2.224398e+09       \n",
      "1583306760                                       2.225000e+09       \n",
      "1583306820                                       2.225385e+09       \n",
      "\n",
      "[5 rows x 177 columns]\n"
     ]
    }
   ],
   "source": [
    "import pandas as pd\n",
    "_file_name = \"./dataset/MEM.csv\"\n",
    "%time origin_df = pd.read_csv(_file_name, index_col=0)\n",
    "print(origin_df.head())"
   ]
  },
  {
   "cell_type": "code",
   "execution_count": 36,
   "metadata": {},
   "outputs": [
    {
     "name": "stdout",
     "output_type": "stream",
     "text": [
      "(177, 48526)\n"
     ]
    },
    {
     "data": {
      "text/plain": [
       "177"
      ]
     },
     "execution_count": 36,
     "metadata": {},
     "output_type": "execute_result"
    }
   ],
   "source": [
    "data = origin_df.values.T\n",
    "print(data.shape)\n",
    "len(data)"
   ]
  },
  {
   "cell_type": "code",
   "execution_count": 35,
   "metadata": {},
   "outputs": [
    {
     "ename": "NameError",
     "evalue": "name 'ins' is not defined",
     "output_type": "error",
     "traceback": [
      "\u001b[0;31m---------------------------------------------------------------------------\u001b[0m",
      "\u001b[0;31mNameError\u001b[0m                                 Traceback (most recent call last)",
      "\u001b[0;32m<ipython-input-35-d3668c0827d6>\u001b[0m in \u001b[0;36m<module>\u001b[0;34m\u001b[0m\n\u001b[0;32m----> 1\u001b[0;31m \u001b[0mtrain_ins\u001b[0m \u001b[0;34m=\u001b[0m \u001b[0mins\u001b[0m\u001b[0;34m[\u001b[0m\u001b[0;34m:\u001b[0m\u001b[0;34m-\u001b[0m\u001b[0;36m10\u001b[0m\u001b[0;34m]\u001b[0m\u001b[0;34m\u001b[0m\u001b[0;34m\u001b[0m\u001b[0m\n\u001b[0m\u001b[1;32m      2\u001b[0m \u001b[0mprint\u001b[0m\u001b[0;34m(\u001b[0m\u001b[0mtrain_ins\u001b[0m\u001b[0;34m.\u001b[0m\u001b[0mshape\u001b[0m\u001b[0;34m)\u001b[0m\u001b[0;34m\u001b[0m\u001b[0;34m\u001b[0m\u001b[0m\n",
      "\u001b[0;31mNameError\u001b[0m: name 'ins' is not defined"
     ]
    }
   ],
   "source": [
    "train_ins = ins[:-10]\n",
    "print(train_ins.shape)"
   ]
  },
  {
   "cell_type": "code",
   "execution_count": 21,
   "metadata": {},
   "outputs": [
    {
     "data": {
      "text/plain": [
       "(2, 4, 3)"
      ]
     },
     "execution_count": 21,
     "metadata": {},
     "output_type": "execute_result"
    }
   ],
   "source": [
    "import numpy as np\n",
    "tmp = np.array(a)\n",
    "tmp.shape"
   ]
  },
  {
   "cell_type": "code",
   "execution_count": 37,
   "metadata": {},
   "outputs": [],
   "source": [
    "from models.lstm_model import LSTMModel \n",
    "lstm_model2 = LSTMModel()\n",
    "#     lstm_model2.train_model(ResourceQuery.CPU)\n",
    "inputs, outputs = lstm_model2._preprocess_data_reserve(data)"
   ]
  },
  {
   "cell_type": "code",
   "execution_count": 38,
   "metadata": {},
   "outputs": [
    {
     "data": {
      "text/plain": [
       "(807, 60, 177)"
      ]
     },
     "execution_count": 38,
     "metadata": {},
     "output_type": "execute_result"
    }
   ],
   "source": [
    "inputs.shape"
   ]
  },
  {
   "cell_type": "code",
   "execution_count": 39,
   "metadata": {},
   "outputs": [
    {
     "data": {
      "text/plain": [
       "(804, 60, 177)"
      ]
     },
     "execution_count": 39,
     "metadata": {},
     "output_type": "execute_result"
    }
   ],
   "source": [
    "import numpy as np\n",
    "# train_inputs = np.array(inputs[0:-3]).reshape((2,60,170))\n",
    "# train_outputs = np.array(outputs[0:-3]).reshape((2,60,170))\n",
    "# val_inputs = np.array(inputs[-3:]).reshape((1,60,170))\n",
    "# val_outputs = np.array(outputs[-3:]).reshape((1,60,170))\n",
    "\n",
    "train_inputs = np.array(inputs[0:-3])\n",
    "train_outputs = np.array(outputs[0:-3])\n",
    "val_inputs = np.array(inputs[-3:])\n",
    "val_outputs = np.array(outputs[-3:])\n",
    "\n",
    "train_inputs.shape"
   ]
  },
  {
   "cell_type": "code",
   "execution_count": 40,
   "metadata": {},
   "outputs": [
    {
     "name": "stdout",
     "output_type": "stream",
     "text": [
      "_________________________________________________________________\n",
      "Layer (type)                 Output Shape              Param #   \n",
      "=================================================================\n",
      "lstm_5 (LSTM)                (None, 60, 50)            45600     \n",
      "_________________________________________________________________\n",
      "dense_5 (Dense)              (None, 60, 177)           9027      \n",
      "=================================================================\n",
      "Total params: 54,627\n",
      "Trainable params: 54,627\n",
      "Non-trainable params: 0\n",
      "_________________________________________________________________\n"
     ]
    }
   ],
   "source": [
    "# Importing the Keras libraries and packages for LSTM\n",
    "from keras.models import Sequential\n",
    "from keras.layers import Dense\n",
    "from keras.layers import LSTM\n",
    "\n",
    "LSTM_UNITS = 50\n",
    "LSTM_IN_LEN = 60\n",
    "# Initialising the RNN\n",
    "model = Sequential()\n",
    "# Adding the input layerand the LSTM layer\n",
    "model.add(LSTM(units=LSTM_UNITS, activation = 'sigmoid', input_shape=(LSTM_IN_LEN, 177),\\\n",
    "     return_sequences=True))\n",
    "# Adding the output layer\n",
    "model.add(Dense(units = 177))\n",
    "# Compiling the RNN\n",
    "model.compile(optimizer = 'adam', loss = 'mean_squared_error')\n",
    "model.summary()"
   ]
  },
  {
   "cell_type": "code",
   "execution_count": null,
   "metadata": {},
   "outputs": [
    {
     "name": "stdout",
     "output_type": "stream",
     "text": [
      "Train on 804 samples, validate on 3 samples\n",
      "Epoch 1/10\n"
     ]
    }
   ],
   "source": [
    "LSTM_BATH_SIZE = 32\n",
    "LSTM_EPOCHS = 10\n",
    "history = model.fit(train_inputs, train_outputs, validation_data=(val_inputs,val_outputs),\\\n",
    "             batch_size=32, epochs=LSTM_EPOCHS, verbose = 2)"
   ]
  },
  {
   "cell_type": "code",
   "execution_count": null,
   "metadata": {},
   "outputs": [],
   "source": []
  }
 ],
 "metadata": {
  "kernelspec": {
   "display_name": "Python 3.6.10 64-bit ('fore': conda)",
   "language": "python",
   "name": "python361064bitforecondac4060f4969584a3e87a78451f141fe28"
  },
  "language_info": {
   "codemirror_mode": {
    "name": "ipython",
    "version": 3
   },
   "file_extension": ".py",
   "mimetype": "text/x-python",
   "name": "python",
   "nbconvert_exporter": "python",
   "pygments_lexer": "ipython3",
   "version": "3.6.10"
  }
 },
 "nbformat": 4,
 "nbformat_minor": 4
}
